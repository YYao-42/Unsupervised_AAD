{
 "cells": [
  {
   "cell_type": "code",
   "execution_count": 28,
   "metadata": {},
   "outputs": [],
   "source": [
    "import matplotlib.pyplot as plt\n",
    "import matplotlib.lines as mlines\n",
    "import pandas as pd\n",
    "import seaborn as sns\n",
    "import numpy as np\n",
    "import pickle\n",
    "import copy\n",
    "from scipy import stats\n",
    "from matplotlib.lines import Line2D\n",
    "from matplotlib.gridspec import GridSpec\n",
    "from scipy.stats import wilcoxon\n",
    "%matplotlib widget"
   ]
  },
  {
   "cell_type": "code",
   "execution_count": 29,
   "metadata": {},
   "outputs": [],
   "source": [
    "def load_res(TRUELABEL_PERCENT, table_path, nb_subj, SEEDS, CROSSVIEW, track_resolu, label_resolu, compete_resolu, coe, MAX_ITER, LWCOV, SAMEWEIGHT, KEEP_TRAIN_PERCENT, BOOTSTRAP, SVAD, fold=None):\n",
    "    rt = np.zeros((nb_subj, MAX_ITER))\n",
    "    corr_sum_att = np.zeros((nb_subj, MAX_ITER))\n",
    "    corr_sum_unatt = np.zeros((nb_subj, MAX_ITER))\n",
    "    acc = np.zeros((nb_subj, MAX_ITER))\n",
    "    rt_list = []\n",
    "    corr_sum_att_list = []\n",
    "    corr_sum_unatt_list = []\n",
    "    acc_list = []\n",
    "    for SEED in SEEDS:\n",
    "        if TRUELABEL_PERCENT == 0.0 or TRUELABEL_PERCENT == 1.0:\n",
    "            SEED = SEEDS[0]\n",
    "        for Subj_ID in range(nb_subj):\n",
    "            file_name = f'{table_path}{Subj_ID}_{'crossview' if CROSSVIEW else 'featview'}_trackresolu{track_resolu}_truelabelpct_{TRUELABEL_PERCENT}_labelresolu_{label_resolu}_{'svadresolu' if SVAD else 'mmresolu'}_{compete_resolu}coe{coe}_nbiter{MAX_ITER}_seed{SEED}{'_lwcov' if LWCOV else ''}{'_samew' if SAMEWEIGHT else ''}{KEEP_TRAIN_PERCENT if KEEP_TRAIN_PERCENT is not None else ''}{'_bootstrap' if BOOTSTRAP else ''}.pkl'\n",
    "            with open(file_name, 'rb') as f:\n",
    "                res = pickle.load(f)\n",
    "                if not SVAD:\n",
    "                    rt[Subj_ID,:] = res['rt_list']\n",
    "                    corr_sum_att[Subj_ID,:] = res['corr_sum_list']\n",
    "                    acc[Subj_ID,:] = res['acc_list']\n",
    "                else:\n",
    "                    corr_sum_att[Subj_ID,:] = res['corr_sum_att'][fold,:] if fold is not None else np.mean(res['corr_sum_att'], axis=0)\n",
    "                    corr_sum_unatt[Subj_ID,:] = res['corr_sum_unatt'][fold,:] if fold is not None else np.mean(res['corr_sum_unatt'], axis=0)\n",
    "                    acc[Subj_ID,:] = res['acc'][fold,:] if fold is not None else np.mean(res['acc'], axis=0)\n",
    "        corr_sum_att_list.append(copy.deepcopy(corr_sum_att))\n",
    "        acc_list.append(copy.deepcopy(acc))\n",
    "        if not SVAD:\n",
    "            rt_list.append(copy.deepcopy(rt))\n",
    "        else:\n",
    "            corr_sum_unatt_list.append(copy.deepcopy(corr_sum_unatt))\n",
    "    rt_avg_over_seeds = np.mean(rt_list, axis=0) if not SVAD else None\n",
    "    corr_avg_over_seeds_att = np.mean(corr_sum_att_list, axis=0)\n",
    "    corr_avg_over_seeds_unatt = np.mean(corr_sum_unatt_list, axis=0) if SVAD else None\n",
    "    acc_avg_over_seeds = np.mean(acc_list, axis=0)   \n",
    "    rt_all = np.concatenate(tuple(rt_list), axis=0) if not SVAD else None\n",
    "    corr_all_att = np.concatenate(tuple(corr_sum_att_list), axis=0)\n",
    "    corr_all_unatt = np.concatenate(tuple(corr_sum_unatt_list), axis=0) if SVAD else None\n",
    "    acc_all = np.concatenate(tuple(acc_list), axis=0)\n",
    "    return rt_avg_over_seeds, corr_avg_over_seeds_att, corr_avg_over_seeds_unatt, acc_avg_over_seeds, rt_all, corr_all_att, corr_all_unatt, acc_all"
   ]
  },
  {
   "cell_type": "code",
   "execution_count": 30,
   "metadata": {},
   "outputs": [],
   "source": [
    "SEEDS = [2, 4, 8, 16, 32]\n",
    "# SEEDS = [4]\n",
    "label_resolu = 60\n",
    "track_resolu = 60\n",
    "compete_resolu = 60\n",
    "LWCOV = False\n",
    "BOOTSTRAP = True\n",
    "SVAD = True\n",
    "fold = 0\n",
    "MAX_ITER = 8 if not SVAD else 6\n",
    "SAMEWEIGHT = False\n",
    "KEEP_TRAIN_PERCENT = None\n",
    "coe = None"
   ]
  },
  {
   "cell_type": "code",
   "execution_count": 31,
   "metadata": {},
   "outputs": [],
   "source": [
    "MOD = 'EEG-EOG'\n",
    "CROSSVIEW = True\n",
    "nb_subj = 19\n",
    "L_data = 3\n",
    "L_feats = 15\n",
    "w_data = np.zeros((nb_subj, 64*L_data, 5))\n",
    "w_feats = np.zeros((nb_subj, L_feats, 5)) \n",
    "table_path = f'tables/{MOD}/'"
   ]
  },
  {
   "cell_type": "markdown",
   "metadata": {},
   "source": [
    "## Plot the initial results for each TRUELABEL_PERCENT"
   ]
  },
  {
   "cell_type": "code",
   "execution_count": 32,
   "metadata": {},
   "outputs": [],
   "source": [
    "TRUELABEL_PERCENT_list = [0.0, 0.5, 1.0] # [0.0, 0.25, 0.5, 0.75, 1.0]\n",
    "rt_init = np.zeros((nb_subj*len(SEEDS), len(TRUELABEL_PERCENT_list))) if not SVAD else None\n",
    "corr_att_init = np.zeros((nb_subj*len(SEEDS), len(TRUELABEL_PERCENT_list)))\n",
    "corr_unatt_init = np.zeros((nb_subj*len(SEEDS), len(TRUELABEL_PERCENT_list))) if SVAD else None\n",
    "acc_init = np.zeros((nb_subj*len(SEEDS), len(TRUELABEL_PERCENT_list)))\n",
    "for i, TRUELABEL_PERCENT in enumerate(TRUELABEL_PERCENT_list):\n",
    "    rt_avg_over_seeds, corr_avg_over_seeds_att, corr_avg_over_seeds_unatt, acc_avg_over_seeds, rt_all, corr_all_att, corr_all_unatt, acc_all =  load_res(TRUELABEL_PERCENT, table_path, nb_subj, SEEDS, CROSSVIEW, track_resolu, label_resolu, compete_resolu, coe, MAX_ITER, LWCOV, SAMEWEIGHT, KEEP_TRAIN_PERCENT, BOOTSTRAP, SVAD)\n",
    "    corr_att_init[:,i] = corr_all_att[:,0]\n",
    "    acc_init[:,i] = acc_all[:,0]\n",
    "    if not SVAD:\n",
    "        rt_init[:,i] = rt_all[:,0]\n",
    "    else:\n",
    "        corr_unatt_init[:,i] = corr_all_unatt[:,0]"
   ]
  },
  {
   "cell_type": "code",
   "execution_count": null,
   "metadata": {},
   "outputs": [],
   "source": [
    "value_to_plot = acc_init\n",
    "plt.close('all')\n",
    "plt.figure()\n",
    "sns.boxplot(data=value_to_plot, fill=None)\n",
    "sns.stripplot(data=value_to_plot)\n",
    "plt.plot(np.mean(value_to_plot, axis=0), color='black')\n",
    "plt.fill_between(range(len(TRUELABEL_PERCENT_list)), np.mean(value_to_plot, axis=0) - np.std(value_to_plot, axis=0), np.mean(value_to_plot, axis=0) + np.std(value_to_plot, axis=0), color='gray', alpha=0.2)\n",
    "plt.xticks(ticks=range(len(TRUELABEL_PERCENT_list)), labels=[f'{TRUELABEL_PERCENT}' for TRUELABEL_PERCENT in TRUELABEL_PERCENT_list])\n",
    "plt.xlabel('Initial True Label Percentage')\n",
    "plt.ylabel('CC1+CC2')\n",
    "plt.show()"
   ]
  },
  {
   "cell_type": "code",
   "execution_count": null,
   "metadata": {},
   "outputs": [],
   "source": [
    "np.mean(value_to_plot, axis=0)"
   ]
  },
  {
   "cell_type": "code",
   "execution_count": null,
   "metadata": {},
   "outputs": [],
   "source": [
    "wilcoxon(acc_init[:,1], acc_init[:,0], alternative='greater')"
   ]
  },
  {
   "cell_type": "markdown",
   "metadata": {},
   "source": [
    "## Plot the results of each iteration for a given initial TRUELABEL_PERCENT"
   ]
  },
  {
   "cell_type": "code",
   "execution_count": 83,
   "metadata": {},
   "outputs": [],
   "source": [
    "TRUELABEL_PERCENT = 0.0\n",
    "rt_avg_over_seeds, corr_avg_over_seeds_att, corr_avg_over_seeds_unatt, acc_avg_over_seeds, rt_all, corr_all_att, corr_all_unatt, acc_all =  load_res(TRUELABEL_PERCENT, table_path, nb_subj, SEEDS, CROSSVIEW, track_resolu, label_resolu, compete_resolu, coe, MAX_ITER, LWCOV, SAMEWEIGHT, KEEP_TRAIN_PERCENT, BOOTSTRAP, SVAD, fold=6)"
   ]
  },
  {
   "cell_type": "code",
   "execution_count": null,
   "metadata": {},
   "outputs": [],
   "source": [
    "value_to_plot = acc_all # Choose between rt_all, corr_all, acc_all\n",
    "plt.close('all')\n",
    "plt.figure()\n",
    "sns.boxplot(data=value_to_plot, fill=None)\n",
    "sns.stripplot(data=value_to_plot)\n",
    "plt.plot(np.mean(value_to_plot, axis=0), color='black')\n",
    "plt.fill_between(range(MAX_ITER), np.mean(value_to_plot, axis=0) - np.std(value_to_plot, axis=0), np.mean(value_to_plot, axis=0) + np.std(value_to_plot, axis=0), color='gray', alpha=0.2)\n",
    "plt.xlabel('Number of Iterations')\n",
    "plt.ylabel('CC1+CC2')\n",
    "plt.show()"
   ]
  },
  {
   "cell_type": "code",
   "execution_count": null,
   "metadata": {},
   "outputs": [],
   "source": [
    "np.mean(value_to_plot, axis=0)"
   ]
  },
  {
   "cell_type": "code",
   "execution_count": null,
   "metadata": {},
   "outputs": [],
   "source": [
    "wilcoxon(value_to_plot[:,1], value_to_plot[:,0], alternative='greater')"
   ]
  },
  {
   "cell_type": "code",
   "execution_count": null,
   "metadata": {},
   "outputs": [],
   "source": []
  }
 ],
 "metadata": {
  "kernelspec": {
   "display_name": "ccazoo",
   "language": "python",
   "name": "python3"
  },
  "language_info": {
   "codemirror_mode": {
    "name": "ipython",
    "version": 3
   },
   "file_extension": ".py",
   "mimetype": "text/x-python",
   "name": "python",
   "nbconvert_exporter": "python",
   "pygments_lexer": "ipython3",
   "version": "3.12.4"
  }
 },
 "nbformat": 4,
 "nbformat_minor": 2
}
