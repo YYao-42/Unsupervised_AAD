{
 "cells": [
  {
   "cell_type": "code",
   "execution_count": null,
   "id": "01e82ad4",
   "metadata": {},
   "outputs": [],
   "source": [
    "import utils_stream\n",
    "import numpy as np\n",
    "import scipy\n",
    "import matplotlib.pyplot as plt\n",
    "%matplotlib widget"
   ]
  },
  {
   "cell_type": "code",
   "execution_count": null,
   "id": "0811684a",
   "metadata": {},
   "outputs": [],
   "source": [
    "latent_dimensions = 5\n",
    "fs = 20\n",
    "hparadata = [9, 8]\n",
    "hparafeats = [1, 0]\n",
    "evalpara = [1, 1]\n",
    "weightpara = [0.9, 0.9]\n",
    "pool_size = 19\n",
    "SEED = 1\n",
    "PARATRANS = True\n",
    "nb_trials = 24\n",
    "nb_disconnected = 0\n",
    "sub_trial_length = 30\n",
    "SHUFFLE = False\n",
    "UPDATE_STEP = 60 // sub_trial_length if sub_trial_length else 1"
   ]
  },
  {
   "cell_type": "code",
   "execution_count": null,
   "id": "cd9006a9",
   "metadata": {},
   "outputs": [],
   "source": [
    "# read .mat files\n",
    "Subj_ID = 1\n",
    "data_path = '../../Experiments/data/Zink/dataSubjectOfficial{}.mat'.format(Subj_ID)\n",
    "data = scipy.io.loadmat(data_path, squeeze_me=True)\n",
    "conditions = data['condition']\n",
    "unique_conditions = np.unique(conditions)\n",
    "data_conditions_dict = {}\n",
    "feats_conditions_dict = {}\n",
    "labels_conditions_dict = {}\n",
    "rng = np.random.RandomState(SEED)\n",
    "for cond in unique_conditions:\n",
    "    data_trials = data['eegTrials'][conditions == cond]\n",
    "    data_trials = [d for d in data_trials]\n",
    "    if nb_disconnected > 0:\n",
    "        disconnected_channels = rng.choice(data_trials[0].shape[1], nb_disconnected, replace=False)\n",
    "        for i in range(len(data_trials)):\n",
    "            data_trials[i][:, disconnected_channels] = 0\n",
    "    data_trials = [utils_stream.process_data_per_view(d, hparadata[0], hparadata[1], NORMALIZE=True) for d in data_trials]\n",
    "    feats_trials = data['audioTrials'][conditions == cond]\n",
    "    feats_trials = [f for f in feats_trials]\n",
    "    feats_trials = [utils_stream.process_data_per_view(f, hparafeats[0], hparafeats[1], NORMALIZE=True) for f in feats_trials]\n",
    "    labels_trials = data['attSpeaker'][conditions == cond]\n",
    "    labels_trials = [l for l in labels_trials]\n",
    "    if sub_trial_length is not None:\n",
    "        data_trials, feats_trials, labels_trials = utils_stream.further_split_and_shuffle(data_trials, feats_trials, labels_trials, sub_trial_length, fs, SHUFFLE=SHUFFLE, SEED=SEED)\n",
    "    data_conditions_dict[cond] = data_trials\n",
    "    feats_conditions_dict[cond] = feats_trials\n",
    "    labels_conditions_dict[cond] = labels_trials"
   ]
  },
  {
   "cell_type": "code",
   "execution_count": null,
   "id": "0c86f9f7",
   "metadata": {},
   "outputs": [],
   "source": [
    "stream = utils_stream.STREAM(data_conditions_dict, feats_conditions_dict, hparadata[0], hparafeats[0], latent_dimensions, SEED, evalpara, nb_trials, UPDATE_STEP)\n",
    "true_labels = np.concatenate([v[:nb_trials*UPDATE_STEP] for v in labels_conditions_dict.values()])\n",
    "\n",
    "pred_labels_dict = stream.fixed_supervised(labels_conditions_dict, ['CS-1', 'CS-2'], ['TS-1', 'TS-2', 'TS-3', 'TS-4', 'FUS-1', 'FUS-2'])\n",
    "pred_labels_fixed = np.concatenate([v for v in pred_labels_dict.values()])\n",
    "\n",
    "pred_labels_dict = stream.adaptive_supervised(labels_conditions_dict, weightpara, PARATRANS=PARATRANS)\n",
    "pred_labels_adapsup = np.concatenate([v for v in pred_labels_dict.values()])\n",
    "\n",
    "pred_labels_dict = stream.recursive(weightpara, PARATRANS=PARATRANS, SINGLEENC=True, conds_sorted=['CS-1', 'CS-2', 'TS-1', 'TS-2', 'TS-3', 'TS-4', 'FUS-1', 'FUS-2'])\n",
    "pred_labels_single = np.concatenate([v for v in pred_labels_dict.values()])\n",
    "\n",
    "pred_labels_dict = stream.recursive(weightpara, PARATRANS=PARATRANS, SINGLEENC=False, conds_sorted=['CS-1', 'CS-2', 'TS-1', 'TS-2', 'TS-3', 'TS-4', 'FUS-1', 'FUS-2'])\n",
    "pred_labels_two = np.concatenate([v for v in pred_labels_dict.values()])"
   ]
  },
  {
   "cell_type": "code",
   "execution_count": null,
   "id": "adc79c44",
   "metadata": {},
   "outputs": [],
   "source": [
    "print(\"###########Fixed Supervised###########\")\n",
    "acc_non_calib_fixed, acc_fixed = utils_stream.calc_smooth_acc(pred_labels_fixed, true_labels, nb_trials, UPDATE_STEP, nearby=14)\n",
    "print(\"###########Adaptive Supervised###########\")\n",
    "acc_non_calib_adapsup, acc_adapsup = utils_stream.calc_smooth_acc(pred_labels_adapsup, true_labels, nb_trials, UPDATE_STEP, nearby=14)\n",
    "print(\"###########Single-Encoder###########\")\n",
    "acc_non_calib_single_enc, acc_single = utils_stream.calc_smooth_acc(pred_labels_single, true_labels, nb_trials, UPDATE_STEP, nearby=14)\n",
    "print(\"###########Two-Encoder###########\")\n",
    "acc_non_calib, acc_two = utils_stream.calc_smooth_acc(pred_labels_two, true_labels, nb_trials, UPDATE_STEP, nearby=14)"
   ]
  },
  {
   "cell_type": "code",
   "execution_count": null,
   "id": "abb156df",
   "metadata": {},
   "outputs": [],
   "source": [
    "plt.close('all')\n",
    "plt.figure(figsize=(10, 2))\n",
    "x_axis = np.arange(len(true_labels))/UPDATE_STEP\n",
    "plt.plot(x_axis, acc_two, label='Two-Enc', color='orange')\n",
    "plt.plot(x_axis, acc_single, label='Single-Enc', color='blue')\n",
    "plt.plot(x_axis, acc_adapsup, label='Adaptive Supervised', color='red')\n",
    "plt.plot(x_axis[2*nb_trials*UPDATE_STEP:], acc_fixed, label='Fixed Supervised', color='green')\n",
    "# mark recur_acc_se and recur_acc_te in title\n",
    "plt.title(f\"Subject {Subj_ID}, Single-Enc: {acc_non_calib_single_enc:.2f}, Two-Enc: {acc_non_calib:.2f}\")\n",
    "plt.xlabel('time (min)')\n",
    "plt.ylabel('accuracy')\n",
    "for i in range(2, 9):\n",
    "    plt.axvline(x=i*nb_trials, color='grey', linestyle='--')\n",
    "plt.legend()\n",
    "plt.show()"
   ]
  },
  {
   "cell_type": "code",
   "execution_count": null,
   "id": "98f1f54b",
   "metadata": {},
   "outputs": [],
   "source": []
  }
 ],
 "metadata": {
  "kernelspec": {
   "display_name": "ccazoo",
   "language": "python",
   "name": "python3"
  },
  "language_info": {
   "codemirror_mode": {
    "name": "ipython",
    "version": 3
   },
   "file_extension": ".py",
   "mimetype": "text/x-python",
   "name": "python",
   "nbconvert_exporter": "python",
   "pygments_lexer": "ipython3",
   "version": "3.12.4"
  }
 },
 "nbformat": 4,
 "nbformat_minor": 5
}
