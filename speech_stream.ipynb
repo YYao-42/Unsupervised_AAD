{
 "cells": [
  {
   "cell_type": "code",
   "execution_count": null,
   "id": "01e82ad4",
   "metadata": {},
   "outputs": [],
   "source": [
    "import os\n",
    "import utils_stream\n",
    "import numpy as np\n",
    "import scipy\n",
    "import matplotlib.pyplot as plt\n",
    "from scipy.io import loadmat\n",
    "%matplotlib widget"
   ]
  },
  {
   "cell_type": "code",
   "execution_count": null,
   "id": "0a4b9e17",
   "metadata": {},
   "outputs": [],
   "source": [
    "def data_per_subj(Subj_ID, data_folder):\n",
    "    file_path = f'{data_folder}/dataSubject{Subj_ID}.mat'\n",
    "    data_dict = loadmat(file_path, squeeze_me=True)\n",
    "    if 'earEEG' in data_folder:\n",
    "        eeg_trials = [trial[:,:29] for trial in data_dict['eegTrials']]\n",
    "    else:\n",
    "        eeg_trials = data_dict['eegTrials']\n",
    "    feats_trials = data_dict['audioTrials']\n",
    "    label_trials = data_dict['attSpeaker']\n",
    "    nb_trials = len(eeg_trials)\n",
    "    eeg_trials = [eeg_trials[i] for i in range(nb_trials)]\n",
    "    feats_trials = [feats_trials[i] for i in range(nb_trials)]\n",
    "    label_trials = [label_trials[i] for i in range(nb_trials)]\n",
    "    return eeg_trials, feats_trials, label_trials"
   ]
  },
  {
   "cell_type": "code",
   "execution_count": null,
   "id": "0811684a",
   "metadata": {},
   "outputs": [],
   "source": [
    "# latent_dimensions = 5\n",
    "# fs = 20\n",
    "# hparadata = [4, 3]\n",
    "# hparafeats = [6, 0]\n",
    "# evalpara = [3, 2]\n",
    "# weightpara = [0.9, 0.9]\n",
    "# pool_size = 19\n",
    "# SEED = 2\n",
    "# PARATRANS = True\n",
    "# ori_trial_len = 60\n",
    "# trial_len = 60\n",
    "# nb_calibsessions = 1\n",
    "# nb_disconnected = 0\n",
    "# sub_trial_length = 15\n",
    "# SHUFFLE = True\n",
    "# UPDATE_STEP = trial_len // sub_trial_length if sub_trial_length else 1\n",
    "# dataset = 'Neetha'"
   ]
  },
  {
   "cell_type": "code",
   "execution_count": null,
   "id": "fdeda9b1",
   "metadata": {},
   "outputs": [],
   "source": [
    "# latent_dimensions = 5\n",
    "# fs = 32\n",
    "# hparadata = [4, 3]\n",
    "# hparafeats = [9, 0]\n",
    "# evalpara = [3, 2]\n",
    "# weightpara = [0.916, 0.916]\n",
    "# pool_size = 23\n",
    "# SEED = 2\n",
    "# PARATRANS = True\n",
    "# ori_trial_len = 50\n",
    "# trial_len = 50\n",
    "# nb_calibsessions = 1\n",
    "# nb_disconnected = 0\n",
    "# sub_trial_length = 25\n",
    "# SHUFFLE = False\n",
    "# UPDATE_STEP = trial_len // sub_trial_length if sub_trial_length else 1\n",
    "# dataset = 'fuglsang2018'"
   ]
  },
  {
   "cell_type": "code",
   "execution_count": null,
   "id": "b46cc836",
   "metadata": {},
   "outputs": [],
   "source": [
    "latent_dimensions = 5\n",
    "fs = 20\n",
    "hparadata = [4, 3]\n",
    "hparafeats = [6, 0]\n",
    "evalpara = [3, 2]\n",
    "weightpara = [0.9, 0.9]\n",
    "pool_size = 19\n",
    "SEED = 2\n",
    "PARATRANS = True\n",
    "ori_trial_len = 600\n",
    "trial_len = 60\n",
    "nb_calibsessions = 1\n",
    "nb_disconnected = 0\n",
    "sub_trial_length = 30\n",
    "SHUFFLE = False\n",
    "UPDATE_STEP = trial_len // sub_trial_length if sub_trial_length else 1\n",
    "dataset = 'earEEG'"
   ]
  },
  {
   "cell_type": "code",
   "execution_count": null,
   "id": "3f4fc9d1",
   "metadata": {},
   "outputs": [],
   "source": [
    "data_folder = f'../../Experiments/Data/{dataset}/'\n",
    "files = [f for f in os.listdir(data_folder) if f.endswith('.mat')]\n",
    "subjects = [int(''.join(filter(str.isdigit, f))) for f in files]\n",
    "subjects.sort()\n",
    "eeg_dict = {}\n",
    "feats_dict = {}\n",
    "labels_dict = {}\n",
    "for subject in subjects:\n",
    "    eeg_trials, feats_trials, label_trials = data_per_subj(subject, data_folder)\n",
    "    if trial_len != ori_trial_len:\n",
    "        eeg_trials, feats_trials, label_trials = utils_stream.further_split_and_shuffle(eeg_trials, feats_trials, label_trials, trial_len, fs)\n",
    "    eeg_dict[subject] = eeg_trials\n",
    "    feats_dict[subject] = feats_trials\n",
    "    labels_dict[subject] = label_trials\n",
    "nb_trials = 24 # len(eeg_dict[subjects[0]])"
   ]
  },
  {
   "cell_type": "code",
   "execution_count": null,
   "id": "3fdedbe7",
   "metadata": {},
   "outputs": [],
   "source": [
    "data_subjects_dict = {}\n",
    "feats_subjects_dict = {}\n",
    "labels_subjects_dict = {}\n",
    "rng = np.random.RandomState(SEED)\n",
    "for subj in subjects:\n",
    "    data_trials = eeg_dict[subj]\n",
    "    if nb_disconnected > 0:\n",
    "        disconnected_channels = rng.choice(data_trials[0].shape[1], nb_disconnected, replace=False)\n",
    "        for i in range(len(data_trials)):\n",
    "            data_trials[i][:, disconnected_channels] = 0\n",
    "    data_trials = [utils_stream.process_data_per_view(d, hparadata[0], hparadata[1], NORMALIZE=True) for d in data_trials]\n",
    "    feats_trials = feats_dict[subj]\n",
    "    feats_trials = [utils_stream.process_data_per_view(f, hparafeats[0], hparafeats[1], NORMALIZE=True) for f in feats_trials]\n",
    "    labels_trials = labels_dict[subj]\n",
    "    if sub_trial_length is not None:\n",
    "        data_trials, feats_trials, labels_trials = utils_stream.further_split_and_shuffle(data_trials, feats_trials, labels_trials, sub_trial_length, fs, SHUFFLE=SHUFFLE, SEED=SEED)\n",
    "    data_subjects_dict[subj] = data_trials\n",
    "    feats_subjects_dict[subj] = feats_trials\n",
    "    labels_subjects_dict[subj] = labels_trials"
   ]
  },
  {
   "cell_type": "code",
   "execution_count": null,
   "id": "0c86f9f7",
   "metadata": {},
   "outputs": [],
   "source": [
    "stream = utils_stream.STREAM(data_subjects_dict, feats_subjects_dict, hparadata[0], hparafeats[0], latent_dimensions, SEED, evalpara, nb_trials, UPDATE_STEP)\n",
    "true_labels = np.concatenate([v[:nb_trials*UPDATE_STEP] for v in labels_subjects_dict.values()])\n",
    "\n",
    "pred_labels_dict = stream.fixed_supervised(labels_subjects_dict, subjects[:nb_calibsessions], subjects[nb_calibsessions:])\n",
    "pred_labels_fixed = np.concatenate([v for v in pred_labels_dict.values()])\n",
    "\n",
    "pred_labels_dict = stream.adaptive_supervised(labels_subjects_dict, weightpara, PARATRANS=PARATRANS)\n",
    "pred_labels_adapsup = np.concatenate([v for v in pred_labels_dict.values()])\n",
    "\n",
    "pred_labels_dict = stream.recursive(weightpara, PARATRANS=PARATRANS, SINGLEENC=True)\n",
    "pred_labels_single = np.concatenate([v for v in pred_labels_dict.values()])\n",
    "\n",
    "pred_labels_dict = stream.recursive(weightpara, PARATRANS=PARATRANS, SINGLEENC=False)\n",
    "pred_labels_two = np.concatenate([v for v in pred_labels_dict.values()])"
   ]
  },
  {
   "cell_type": "code",
   "execution_count": null,
   "id": "adc79c44",
   "metadata": {},
   "outputs": [],
   "source": [
    "print(\"###########Fixed Supervised###########\")\n",
    "acc_non_calib_fixed, acc_fixed = utils_stream.calc_smooth_acc(pred_labels_fixed, true_labels, nb_trials, UPDATE_STEP, nearby=14, nb_calibsessions=nb_calibsessions)\n",
    "print(\"###########Adaptive Supervised###########\")\n",
    "acc_non_calib_adapsup, acc_adapsup = utils_stream.calc_smooth_acc(pred_labels_adapsup, true_labels, nb_trials, UPDATE_STEP, nearby=14, nb_calibsessions=nb_calibsessions)\n",
    "print(\"###########Single-Encoder###########\")\n",
    "acc_non_calib_single_enc, acc_single = utils_stream.calc_smooth_acc(pred_labels_single, true_labels, nb_trials, UPDATE_STEP, nearby=14, nb_calibsessions=nb_calibsessions)\n",
    "print(\"###########Two-Encoder###########\")\n",
    "acc_non_calib, acc_two = utils_stream.calc_smooth_acc(pred_labels_two, true_labels, nb_trials, UPDATE_STEP, nearby=14, nb_calibsessions=nb_calibsessions)"
   ]
  },
  {
   "cell_type": "code",
   "execution_count": null,
   "id": "abb156df",
   "metadata": {},
   "outputs": [],
   "source": [
    "plt.close('all')\n",
    "plt.figure(figsize=(10, 2))\n",
    "x_axis = np.arange(len(true_labels))/UPDATE_STEP\n",
    "plt.plot(x_axis, acc_two, label='Two-Enc', color='orange')\n",
    "plt.plot(x_axis, acc_single, label='Single-Enc', color='blue')\n",
    "# plt.plot(x_axis, acc_adapsup, label='Adaptive Supervised', color='red')\n",
    "# plt.plot(x_axis[nb_calibsessions*nb_trials*UPDATE_STEP:], acc_fixed, label='Fixed Supervised', color='green')\n",
    "# mark recur_acc_se and recur_acc_te in title\n",
    "# plt.title(f\"Single-Enc: {acc_non_calib_single_enc:.2f}, Two-Enc: {acc_non_calib:.2f}\")\n",
    "plt.xlabel('time (min)')\n",
    "plt.ylabel('accuracy')\n",
    "for i in range(nb_calibsessions, len(subjects)):\n",
    "    plt.axvline(x=i*nb_trials, color='grey', linestyle='--')\n",
    "plt.legend()\n",
    "plt.show()"
   ]
  },
  {
   "cell_type": "code",
   "execution_count": null,
   "id": "98f1f54b",
   "metadata": {},
   "outputs": [],
   "source": []
  }
 ],
 "metadata": {
  "kernelspec": {
   "display_name": "ccazoo",
   "language": "python",
   "name": "python3"
  },
  "language_info": {
   "codemirror_mode": {
    "name": "ipython",
    "version": 3
   },
   "file_extension": ".py",
   "mimetype": "text/x-python",
   "name": "python",
   "nbconvert_exporter": "python",
   "pygments_lexer": "ipython3",
   "version": "3.12.4"
  }
 },
 "nbformat": 4,
 "nbformat_minor": 5
}
